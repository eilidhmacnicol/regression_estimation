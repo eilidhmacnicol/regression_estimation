{
 "cells": [
  {
   "cell_type": "markdown",
   "id": "49904dd5",
   "metadata": {},
   "source": [
    "# Starting least-squares regression"
   ]
  },
  {
   "cell_type": "markdown",
   "id": "c7672c8d",
   "metadata": {},
   "source": [
    "## Introduction and definitions"
   ]
  },
  {
   "cell_type": "code",
   "execution_count": null,
   "id": "ad8d8ecd",
   "metadata": {},
   "outputs": [],
   "source": [
    "#: Import numerical and plotting libraries\n",
    "import numpy as np\n",
    "# Print to four digits of precision\n",
    "np.set_printoptions(precision=4, suppress=True)\n",
    "import numpy.linalg as npl\n",
    "import matplotlib.pyplot as plt"
   ]
  },
  {
   "cell_type": "markdown",
   "id": "b367e6a9",
   "metadata": {},
   "source": [
    "This exercise is to practice thinking about how the regression estimation\n",
    "works, and the relationship of correlation and regression.\n",
    "\n",
    "Here are another couple of samples of the “psychopathy” and “clamminess”\n",
    "scores, of the same type that you will see in the [introduction to the general linear\n",
    "model](https://textbook.nipraxis.org/glm_intro.html):"
   ]
  },
  {
   "cell_type": "code",
   "execution_count": null,
   "id": "cf2d5c81",
   "metadata": {},
   "outputs": [],
   "source": [
    "#: The data, that we are trying to model.\n",
    "psychopathy = np.array([10.3512,  4.7685,  8.8875, 15.8477,\n",
    "                        7.9221,  5.275 , 16.7839, 11.2392,\n",
    "                        13.2752, 11.0242, 21.9108, 21.0303])"
   ]
  },
  {
   "cell_type": "code",
   "execution_count": null,
   "id": "4064b91f",
   "metadata": {},
   "outputs": [],
   "source": [
    "#: The regressor that we will use to model the data.\n",
    "clammy = np.array([0.0552,  1.8306, -0.3534, -0.7319,\n",
    "                   5.1021,  1.1133,  0.8126,  3.861,\n",
    "                   6.7069,  4.3189,  4.3741,  7.2527])"
   ]
  },
  {
   "cell_type": "code",
   "execution_count": null,
   "id": "d4095cb4",
   "metadata": {},
   "outputs": [],
   "source": [
    "# Number of values in psychopathy and clammy\n",
    "n = len(psychopathy)"
   ]
  },
  {
   "cell_type": "markdown",
   "id": "bd5b9000",
   "metadata": {},
   "source": [
    "## Correlation coefficient and regression\n",
    "\n",
    "As you remember we calculate the correlation by first calculating standard\n",
    "scores (z-scores), then taking the mean of the multiplied standard scores.\n",
    "\n",
    "Make a function to calculate and return the standard scores from an input\n",
    "array."
   ]
  },
  {
   "cell_type": "code",
   "execution_count": null,
   "id": "eb199134",
   "metadata": {},
   "outputs": [],
   "source": [
    "def standard_scores(v):\n",
    "    \"\"\" Return standard scores from input array `v`\n",
    "\n",
    "    Parameters\n",
    "    ----------\n",
    "    v : array, shape (n,)\n",
    "\n",
    "    Returns\n",
    "    -------\n",
    "    z : array, shape (n,)\n",
    "        Standard scores corresponding to input array `v`.\n",
    "    \"\"\"\n",
    "   ..."
   ]
  },
  {
   "cell_type": "code",
   "execution_count": null,
   "id": "b6ba48cb",
   "metadata": {},
   "outputs": [],
   "source": [
    "rng = np.random.default_rng()\n",
    "# Make 20 random numbers.\n",
    "my_vector = rng.normal(10, 2, size=20)\n",
    "my_vector_standard = standard_scores(my_vector)\n",
    "# Mean should be very close to 0\n",
    "assert np.isclose(np.mean(my_vector_standard), 0)\n",
    "# Standard deviation should be very close to 1\n",
    "assert np.isclose(np.std(my_vector_standard), 1)\n",
    "assert np.isclose(\n",
    "    my_vector_standard[0],\n",
    "    (my_vector[0] - np.mean(my_vector)) / np.std(my_vector))"
   ]
  },
  {
   "cell_type": "markdown",
   "id": "a0bbf2a9",
   "metadata": {},
   "source": [
    "Make a function that uses your `standard_scores` function to calculate the\n",
    "correlation coefficient between two 1D arrays (vectors):"
   ]
  },
  {
   "cell_type": "code",
   "execution_count": null,
   "id": "cf810e1f",
   "metadata": {},
   "outputs": [],
   "source": [
    "def corr(x, y):\n",
    "    \"\"\" Pearson correlation coefficient between vectors `x`, `y`.\n",
    "\n",
    "    Parameters\n",
    "    ----------\n",
    "    x : array, shape (n,)\n",
    "    y : array, shape (n,)\n",
    "\n",
    "    Returns\n",
    "    -------\n",
    "    r : float\n",
    "        Pearson product-moment correlation coefficient between `x` and `y`.\n",
    "    \"\"\"\n",
    "   ..."
   ]
  },
  {
   "cell_type": "markdown",
   "id": "6d399be3",
   "metadata": {},
   "source": [
    "Calculate the correlation coefficient between `clammy` and `psychopathy`."
   ]
  },
  {
   "cell_type": "code",
   "execution_count": null,
   "id": "b70fe8ec",
   "metadata": {},
   "outputs": [],
   "source": [
    "r = ...\n",
    "# Show the result\n",
    "r"
   ]
  },
  {
   "cell_type": "code",
   "execution_count": null,
   "id": "90d350c9",
   "metadata": {},
   "outputs": [],
   "source": [
    "assert -1 <= r <= 1\n",
    "assert np.isclose(r, np.corrcoef(clammy, psychopathy)[0, 1])"
   ]
  },
  {
   "cell_type": "markdown",
   "id": "0c0f5c24",
   "metadata": {},
   "source": [
    "Make a standard scored version of `clammy`.  Call it `z_x`.\n",
    "\n",
    "Make a standard scored version of `psychopathy`.  Call it `z_y`."
   ]
  },
  {
   "cell_type": "code",
   "execution_count": null,
   "id": "ded67396",
   "metadata": {},
   "outputs": [],
   "source": [
    "z_x = ...\n",
    "z_y = ..."
   ]
  },
  {
   "cell_type": "code",
   "execution_count": null,
   "id": "b9cdf254",
   "metadata": {},
   "outputs": [],
   "source": [
    "assert np.isclose(z_x[0], (clammy[0] - np.mean(clammy)) / np.std(clammy))\n",
    "assert np.isclose(z_y[0], (psychopathy[0] - np.mean(psychopathy)) /\n",
    "    np.std(psychopathy))\n",
    "for vec in z_x, z_y:\n",
    "    assert np.isclose(np.mean(vec), 0)\n",
    "    assert np.isclose(np.std(vec), 1)"
   ]
  },
  {
   "cell_type": "markdown",
   "id": "1ce4d907",
   "metadata": {},
   "source": [
    "Do a scatterplot with `z_x` on the x-axis and `z_y` on the y-axis:"
   ]
  },
  {
   "cell_type": "code",
   "execution_count": null,
   "id": "4834f294",
   "metadata": {
    "tags": [
     "raises-exception"
    ]
   },
   "outputs": [],
   "source": [
    "#- Plot z_y as a function of z_x"
   ]
  },
  {
   "cell_type": "markdown",
   "id": "32294955",
   "metadata": {},
   "source": [
    "Here is a function to calculate the Root Mean Squared Error (RMSE) when using a given\n",
    "slope and intercept to estimate values in `y`, from values in `x`.  You will\n",
    "recognize it from [on regression](https://textbook.nipraxis.org/on_regression).\n",
    "The only variation is that the function takes the square root of the MSE to\n",
    "give the Root MSE (RMSE)."
   ]
  },
  {
   "cell_type": "code",
   "execution_count": null,
   "id": "f4fc561b",
   "metadata": {},
   "outputs": [],
   "source": [
    "def calc_rmse(x, y, slope, inter):\n",
    "    predicted = inter + slope * x\n",
    "    errors = y - predicted\n",
    "    return np.sqrt(np.mean(errors ** 2))"
   ]
  },
  {
   "cell_type": "markdown",
   "id": "1f931427",
   "metadata": {},
   "source": [
    "Calculate the RMSE for `z_x` vs `z_y`, using `r` above as the slope\n",
    "and 0 as the intercept."
   ]
  },
  {
   "cell_type": "code",
   "execution_count": null,
   "id": "145c635b",
   "metadata": {},
   "outputs": [],
   "source": [
    "r_mse = ...\n",
    "# Show the result\n",
    "r_rmse"
   ]
  },
  {
   "cell_type": "markdown",
   "id": "6a2853b1",
   "metadata": {},
   "source": [
    "Here is a selection of slopes and intercepts to try, to predict `z_y` with `z_x`."
   ]
  },
  {
   "cell_type": "code",
   "execution_count": null,
   "id": "8b54b37a",
   "metadata": {},
   "outputs": [],
   "source": [
    "slopes = np.arange(-1, 1, 0.01)\n",
    "intercepts = np.arange(-1, 1, 0.01)\n",
    "n_vals = len(slopes)"
   ]
  },
  {
   "cell_type": "markdown",
   "id": "5019a343",
   "metadata": {},
   "source": [
    "For every slope, intercept pair from `slopes`, `intercepts` above, calculate\n",
    "the RMSE value and store it in the array `rmses`."
   ]
  },
  {
   "cell_type": "code",
   "execution_count": null,
   "id": "968096f4",
   "metadata": {},
   "outputs": [],
   "source": [
    "rmses = np.zeros((n_vals, n_vals))\n",
    "for i in range(n_vals):  # For each slope value.\n",
    "    slope = slopes[i]\n",
    "    for j in range(n_vals):\n",
    "       ..."
   ]
  },
  {
   "cell_type": "code",
   "execution_count": null,
   "id": "bbcadc9e",
   "metadata": {},
   "outputs": [],
   "source": [
    "assert np.all(rmses >= 0)\n",
    "assert np.isclose(\n",
    "    rmses[50, 61],\n",
    "    calc_rmse(z_x, z_y, slopes[50], intercepts[61]))"
   ]
  },
  {
   "cell_type": "markdown",
   "id": "96a27317",
   "metadata": {},
   "source": [
    "Show the `rmses` array as a grayscale image:"
   ]
  },
  {
   "cell_type": "code",
   "execution_count": null,
   "id": "da43eba8",
   "metadata": {},
   "outputs": [],
   "source": [
    "#- Show rmse array as an image"
   ]
  },
  {
   "cell_type": "markdown",
   "id": "8175ba15",
   "metadata": {},
   "source": [
    "Show that all values in `rmses` are greater than the RMSE you calculated for\n",
    "slope=`r` and intercept of 0."
   ]
  },
  {
   "cell_type": "code",
   "execution_count": null,
   "id": "7ab8fc69",
   "metadata": {},
   "outputs": [],
   "source": [
    "..."
   ]
  },
  {
   "cell_type": "markdown",
   "id": "2385e879",
   "metadata": {},
   "source": [
    "The fact that this is so suggests that slope=`r` and intercept of 0 are in fact\n",
    "the slope, intercept pair that minimize the RMSE, when predicting `z_y` from\n",
    "`z_x`."
   ]
  },
  {
   "cell_type": "markdown",
   "id": "f8353854",
   "metadata": {},
   "source": [
    "## Regression\n",
    "\n",
    "We have found the best straight line for predicting the psychopathy values as\n",
    "standard scores, from the clammy values as standard scores.  That line has\n",
    "slope `r` and intercept 0.\n",
    "\n",
    "We now want to find the best slope and intercept to predict the original\n",
    "`psychopathy` values from the original `clammy` values.\n",
    "\n",
    "Do a scatterplot with `clammy` on the x-axis and `psychopathy` on the y-axis."
   ]
  },
  {
   "cell_type": "code",
   "execution_count": null,
   "id": "b6d0d6c2",
   "metadata": {
    "tags": [
     "raises-exception"
    ]
   },
   "outputs": [],
   "source": [
    "#- Plot psychopathy as a function of clammy"
   ]
  },
  {
   "cell_type": "markdown",
   "id": "f951ac24",
   "metadata": {},
   "source": [
    "Here are some slopes and intercepts to try for the line predicting `psychopathy` from `clammy`:"
   ]
  },
  {
   "cell_type": "code",
   "execution_count": null,
   "id": "8ea13ef0",
   "metadata": {},
   "outputs": [],
   "source": [
    "n_slopes = 200\n",
    "orig_slopes = np.linspace(0, 1, n_slopes)\n",
    "n_inters = 300\n",
    "orig_intercepts = np.linspace(5, 15, n_inters) "
   ]
  },
  {
   "cell_type": "markdown",
   "id": "0b5a6c16",
   "metadata": {},
   "source": [
    "For every slope, intercept pair from `orig_slopes`, `orig_intercepts` above, calculate\n",
    "the RMSE value and store it in the array `rmses_orig`."
   ]
  },
  {
   "cell_type": "code",
   "execution_count": null,
   "id": "4064faf4",
   "metadata": {},
   "outputs": [],
   "source": [
    "rmses_orig = np.zeros((n_slopes, n_inters))\n",
    "for i in range(n_slopes):  # For each slope value.\n",
    "   ...\n",
    "   ..."
   ]
  },
  {
   "cell_type": "code",
   "execution_count": null,
   "id": "f422ce83",
   "metadata": {},
   "outputs": [],
   "source": [
    "assert np.all(rmses_orig >= 0)\n",
    "assert np.isclose(\n",
    "    rmses_orig[50, 61],\n",
    "    calc_rmse(clammy, psychopathy, orig_slopes[50], orig_intercepts[61]))"
   ]
  },
  {
   "cell_type": "markdown",
   "id": "db49ce54",
   "metadata": {},
   "source": [
    "Show the `rmses_orig` array as a grayscale image:"
   ]
  },
  {
   "cell_type": "code",
   "execution_count": null,
   "id": "5f322daa",
   "metadata": {},
   "outputs": [],
   "source": [
    "#- Show rmse array as an image"
   ]
  },
  {
   "cell_type": "markdown",
   "id": "eae0a64d",
   "metadata": {},
   "source": [
    "From the [on regression](https://textbook.nipraxis.org/on_regression) page, we can work out the best (least squares, least RMSE) slope from `r`, like this:"
   ]
  },
  {
   "cell_type": "code",
   "execution_count": null,
   "id": "dac25f5e",
   "metadata": {},
   "outputs": [],
   "source": [
    "best_orig_slope = r * np.std(psychopathy) / np.std(clammy)\n",
    "best_orig_slope"
   ]
  },
  {
   "cell_type": "markdown",
   "id": "7f5e18be",
   "metadata": {},
   "source": [
    "We can reconstruct the best intercept with:"
   ]
  },
  {
   "cell_type": "code",
   "execution_count": null,
   "id": "6b5e39d1",
   "metadata": {},
   "outputs": [],
   "source": [
    "best_orig_inter = np.mean(psychopathy) - best_orig_slope * np.mean(clammy)\n",
    "best_orig_inter"
   ]
  },
  {
   "cell_type": "markdown",
   "id": "f8519492",
   "metadata": {},
   "source": [
    "This is also what we find using the Scipy linear regression function:"
   ]
  },
  {
   "cell_type": "code",
   "execution_count": null,
   "id": "00b95a04",
   "metadata": {},
   "outputs": [],
   "source": [
    "import scipy.stats as sps\n",
    "res = sps.linregress(clammy, psychopathy)\n",
    "res"
   ]
  },
  {
   "cell_type": "markdown",
   "id": "422884eb",
   "metadata": {},
   "source": [
    "Calculate the RMSE value for `clammy`, `psychopathy`, using the best slope and\n",
    "intercept from the calculation above."
   ]
  },
  {
   "cell_type": "code",
   "execution_count": null,
   "id": "8d9ea186",
   "metadata": {},
   "outputs": [],
   "source": [
    "best_rmse = ...\n",
    "# Show the result\n",
    "best_rmse"
   ]
  },
  {
   "cell_type": "markdown",
   "id": "7179e9fd",
   "metadata": {},
   "source": [
    "Show that all values in `rmses_orig` are greater than the RMSE you calculated for\n",
    "slope=`best_slope_orig` and intercept of `best_slope_orig`."
   ]
  },
  {
   "cell_type": "code",
   "execution_count": null,
   "id": "6e8f6724",
   "metadata": {},
   "outputs": [],
   "source": [
    "..."
   ]
  },
  {
   "cell_type": "markdown",
   "id": "6a162c4e",
   "metadata": {},
   "source": [
    "This implies that slope, intercept pair we calculated using the `r` value, or\n",
    "with `scipy.stats.linregress`, does give the line minimizing the squared error\n",
    "(and RMSE) when predicting `psychopathy` from `clammy`."
   ]
  }
 ],
 "metadata": {
  "jupytext": {
   "notebook_metadata_filter": "all,-language_info",
   "split_at_heading": true,
   "text_representation": {
    "extension": ".Rmd",
    "format_name": "rmarkdown",
    "format_version": "1.2",
    "jupytext_version": "1.10.3"
   }
  },
  "kernelspec": {
   "display_name": "Python 3",
   "language": "python",
   "name": "python3"
  }
 },
 "nbformat": 4,
 "nbformat_minor": 5
}
