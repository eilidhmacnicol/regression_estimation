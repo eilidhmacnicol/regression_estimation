{
 "cells": [
  {
   "cell_type": "markdown",
   "id": "29a8a6ed",
   "metadata": {},
   "source": [
    "# Starting least-squares regression"
   ]
  },
  {
   "cell_type": "markdown",
   "id": "537238a7",
   "metadata": {},
   "source": [
    "## Introduction and definitions"
   ]
  },
  {
   "cell_type": "code",
   "execution_count": 1,
   "id": "1852fedc",
   "metadata": {
    "execution": {
     "iopub.execute_input": "2022-09-10T21:14:07.267169Z",
     "iopub.status.busy": "2022-09-10T21:14:07.266177Z",
     "iopub.status.idle": "2022-09-10T21:14:07.870678Z",
     "shell.execute_reply": "2022-09-10T21:14:07.871671Z"
    }
   },
   "outputs": [],
   "source": [
    "#: Import numerical and plotting libraries\n",
    "import numpy as np\n",
    "# Print to four digits of precision\n",
    "np.set_printoptions(precision=4, suppress=True)\n",
    "import numpy.linalg as npl\n",
    "import matplotlib.pyplot as plt"
   ]
  },
  {
   "cell_type": "markdown",
   "id": "a3fbfba7",
   "metadata": {},
   "source": [
    "This exercise is to practice thinking about how the regression estimation\n",
    "works, and the relationship of correlation and regression.\n",
    "\n",
    "Here are another couple of samples of the “psychopathy” and “clamminess”\n",
    "scores, of the same type that you will see in the [introduction to the general linear\n",
    "model](https://textbook.nipraxis.org/glm_intro.html):\n"
   ]
  },
  {
   "cell_type": "code",
   "execution_count": 2,
   "id": "802dfb26",
   "metadata": {
    "execution": {
     "iopub.execute_input": "2022-09-10T21:14:07.878799Z",
     "iopub.status.busy": "2022-09-10T21:14:07.877765Z",
     "iopub.status.idle": "2022-09-10T21:14:07.882046Z",
     "shell.execute_reply": "2022-09-10T21:14:07.881245Z"
    }
   },
   "outputs": [],
   "source": [
    "#: The data, that we are trying to model.\n",
    "psychopathy = np.array([10.3512,  4.7685,  8.8875, 15.8477,\n",
    "                        7.9221,  5.275 , 16.7839, 11.2392,\n",
    "                        13.2752, 11.0242, 21.9108, 21.0303])"
   ]
  },
  {
   "cell_type": "code",
   "execution_count": 3,
   "id": "bf7f1de7",
   "metadata": {
    "execution": {
     "iopub.execute_input": "2022-09-10T21:14:07.888815Z",
     "iopub.status.busy": "2022-09-10T21:14:07.887547Z",
     "iopub.status.idle": "2022-09-10T21:14:07.890541Z",
     "shell.execute_reply": "2022-09-10T21:14:07.891190Z"
    }
   },
   "outputs": [],
   "source": [
    "#: The regressor that we will use to model the data.\n",
    "clammy = np.array([0.0552,  1.8306, -0.3534, -0.7319,\n",
    "                   5.1021,  1.1133,  0.8126,  3.861,\n",
    "                   6.7069,  4.3189,  4.3741,  7.2527])"
   ]
  },
  {
   "cell_type": "code",
   "execution_count": 4,
   "id": "1d48d3eb",
   "metadata": {
    "execution": {
     "iopub.execute_input": "2022-09-10T21:14:07.897239Z",
     "iopub.status.busy": "2022-09-10T21:14:07.895950Z",
     "iopub.status.idle": "2022-09-10T21:14:07.899008Z",
     "shell.execute_reply": "2022-09-10T21:14:07.899661Z"
    }
   },
   "outputs": [],
   "source": [
    "# Number of values in psychopathy and clammy\n",
    "n = len(psychopathy)"
   ]
  },
  {
   "cell_type": "markdown",
   "id": "8885e4bd",
   "metadata": {},
   "source": [
    "The `psychopathy` scores are scores on a psychopathy scale from a standardized\n",
    "questionnaire, from 12 students.\n",
    "\n",
    "The `clammy` scores are scores of palm skin conductance from the same 12 students.\n",
    "\n",
    "Higher `clammy` scores correspond to a sweatier handshake.\n",
    "\n",
    "We predict that students with higher `clammy` scores will also score higher on\n",
    "the psychopathy scale.  In particular, we think there will be a linear\n",
    "(straight-line) relationship between these two.\n",
    "\n",
    "We want to find the slope and intercept for the \"best\" straight line to predict\n",
    "`psychopathy` scores from `clammy` scores.\n",
    "\n",
    "First do a scatter plot with `clammy` on the x-axis and `psychopathy` on the y-axis."
   ]
  },
  {
   "cell_type": "code",
   "execution_count": 5,
   "id": "7063b3a0",
   "metadata": {
    "execution": {
     "iopub.execute_input": "2022-09-10T21:14:07.936561Z",
     "iopub.status.busy": "2022-09-10T21:14:07.935609Z",
     "iopub.status.idle": "2022-09-10T21:14:08.147349Z",
     "shell.execute_reply": "2022-09-10T21:14:08.148010Z"
    },
    "tags": [
     "raises-exception"
    ]
   },
   "outputs": [],
   "source": [
    "#- Plot psychopathy as a function of clammy\n",
    "plt.scatter(clammy, psychopathy)"
   ]
  },
  {
   "cell_type": "markdown",
   "id": "fc7b0329",
   "metadata": {},
   "source": [
    "Before looking for the best line relating `clammy` to `psychopathy`, we will\n",
    "look at the correlation coefficient between these values."
   ]
  },
  {
   "cell_type": "markdown",
   "id": "ca82749e",
   "metadata": {},
   "source": [
    "## Correlation coefficient\n",
    "\n",
    "As you remember we calculate the correlation by first calculating standard\n",
    "scores (z-scores), then taking the mean of the multiplied standard scores.\n",
    "\n",
    "Make a function to calculate and return the standard scores from an input\n",
    "array."
   ]
  },
  {
   "cell_type": "code",
   "execution_count": 6,
   "id": "d4191650",
   "metadata": {
    "execution": {
     "iopub.execute_input": "2022-09-10T21:14:08.155480Z",
     "iopub.status.busy": "2022-09-10T21:14:08.154408Z",
     "iopub.status.idle": "2022-09-10T21:14:08.157163Z",
     "shell.execute_reply": "2022-09-10T21:14:08.157851Z"
    }
   },
   "outputs": [],
   "source": [
    "def standard_scores(v):\n",
    "    \"\"\" Return standard scores from input array `v`\n",
    "\n",
    "    Parameters\n",
    "    ----------\n",
    "    v : array, shape (n,)\n",
    "\n",
    "    Returns\n",
    "    -------\n",
    "    z : array, shape (n,)\n",
    "        Standard scores corresponding to input array `v`.\n",
    "    \"\"\"\n",
    "    return (v - np.mean(v)) / np.std(v)"
   ]
  },
  {
   "cell_type": "code",
   "execution_count": 7,
   "id": "45c27015",
   "metadata": {
    "execution": {
     "iopub.execute_input": "2022-09-10T21:14:08.167147Z",
     "iopub.status.busy": "2022-09-10T21:14:08.166226Z",
     "iopub.status.idle": "2022-09-10T21:14:08.168857Z",
     "shell.execute_reply": "2022-09-10T21:14:08.169608Z"
    }
   },
   "outputs": [],
   "source": [
    "rng = np.random.default_rng()\n",
    "# Make 20 random numbers.\n",
    "my_vector = rng.normal(10, 2, size=20)\n",
    "my_vector_standard = standard_scores(my_vector)\n",
    "# Mean should be very close to 0\n",
    "assert np.isclose(np.mean(my_vector_standard), 0)\n",
    "# Standard deviation should be very close to 1\n",
    "assert np.isclose(np.std(my_vector_standard), 1)\n",
    "assert np.isclose(\n",
    "    my_vector_standard[0],\n",
    "    (my_vector[0] - np.mean(my_vector)) / np.std(my_vector))"
   ]
  },
  {
   "cell_type": "markdown",
   "id": "d8eaf915",
   "metadata": {},
   "source": [
    "Make a function that uses your `standard_scores` function to calculate the\n",
    "correlation coefficient between two 1D arrays (vectors):"
   ]
  },
  {
   "cell_type": "code",
   "execution_count": 8,
   "id": "ce0bac27",
   "metadata": {
    "execution": {
     "iopub.execute_input": "2022-09-10T21:14:08.176657Z",
     "iopub.status.busy": "2022-09-10T21:14:08.175403Z",
     "iopub.status.idle": "2022-09-10T21:14:08.178421Z",
     "shell.execute_reply": "2022-09-10T21:14:08.179077Z"
    }
   },
   "outputs": [],
   "source": [
    "def corr(x, y):\n",
    "    \"\"\" Pearson correlation coefficient between vectors `x`, `y`.\n",
    "\n",
    "    Parameters\n",
    "    ----------\n",
    "    x : array, shape (n,)\n",
    "    y : array, shape (n,)\n",
    "\n",
    "    Returns\n",
    "    -------\n",
    "    r : float\n",
    "        Pearson product-moment correlation coefficient between `x` and `y`.\n",
    "    \"\"\"\n",
    "    return np.mean(standard_scores(x) * standard_scores(y))"
   ]
  },
  {
   "cell_type": "markdown",
   "id": "f91715be",
   "metadata": {},
   "source": [
    "Calculate the correlation coefficient between `clammy` and `psychopathy`."
   ]
  },
  {
   "cell_type": "code",
   "execution_count": 9,
   "id": "de23f90e",
   "metadata": {
    "execution": {
     "iopub.execute_input": "2022-09-10T21:14:08.186703Z",
     "iopub.status.busy": "2022-09-10T21:14:08.185486Z",
     "iopub.status.idle": "2022-09-10T21:14:08.189849Z",
     "shell.execute_reply": "2022-09-10T21:14:08.190501Z"
    }
   },
   "outputs": [],
   "source": [
    "r = corr(clammy, psychopathy)\n",
    "# Show the result\n",
    "r"
   ]
  },
  {
   "cell_type": "code",
   "execution_count": 10,
   "id": "be28f9ce",
   "metadata": {
    "execution": {
     "iopub.execute_input": "2022-09-10T21:14:08.198000Z",
     "iopub.status.busy": "2022-09-10T21:14:08.197024Z",
     "iopub.status.idle": "2022-09-10T21:14:08.199877Z",
     "shell.execute_reply": "2022-09-10T21:14:08.200537Z"
    }
   },
   "outputs": [],
   "source": [
    "assert -1 <= r <= 1\n",
    "assert np.isclose(r, np.corrcoef(clammy, psychopathy)[0, 1])"
   ]
  },
  {
   "cell_type": "markdown",
   "id": "6d6a6eb1",
   "metadata": {},
   "source": [
    "Make a standard scored version of `clammy`.  Call it `z_x`.\n",
    "\n",
    "Make a standard scored version of `psychopathy`.  Call it `z_y`."
   ]
  },
  {
   "cell_type": "code",
   "execution_count": 11,
   "id": "2cf4f9bc",
   "metadata": {
    "execution": {
     "iopub.execute_input": "2022-09-10T21:14:08.207915Z",
     "iopub.status.busy": "2022-09-10T21:14:08.206478Z",
     "iopub.status.idle": "2022-09-10T21:14:08.210339Z",
     "shell.execute_reply": "2022-09-10T21:14:08.209396Z"
    }
   },
   "outputs": [],
   "source": [
    "z_x = standard_scores(clammy)\n",
    "z_y = standard_scores(psychopathy)"
   ]
  },
  {
   "cell_type": "code",
   "execution_count": 12,
   "id": "48918897",
   "metadata": {
    "execution": {
     "iopub.execute_input": "2022-09-10T21:14:08.218333Z",
     "iopub.status.busy": "2022-09-10T21:14:08.217458Z",
     "iopub.status.idle": "2022-09-10T21:14:08.220181Z",
     "shell.execute_reply": "2022-09-10T21:14:08.220877Z"
    }
   },
   "outputs": [],
   "source": [
    "assert np.isclose(z_x[0], (clammy[0] - np.mean(clammy)) / np.std(clammy))\n",
    "assert np.isclose(z_y[0], (psychopathy[0] - np.mean(psychopathy)) /\n",
    "    np.std(psychopathy))\n",
    "for vec in z_x, z_y:\n",
    "    assert np.isclose(np.mean(vec), 0)\n",
    "    assert np.isclose(np.std(vec), 1)"
   ]
  },
  {
   "cell_type": "markdown",
   "id": "3596c373",
   "metadata": {},
   "source": [
    "Do a scatterplot with `z_x` on the x-axis and `z_y` on the y-axis:"
   ]
  },
  {
   "cell_type": "code",
   "execution_count": 13,
   "id": "445034d6",
   "metadata": {
    "execution": {
     "iopub.execute_input": "2022-09-10T21:14:08.252923Z",
     "iopub.status.busy": "2022-09-10T21:14:08.251972Z",
     "iopub.status.idle": "2022-09-10T21:14:08.432188Z",
     "shell.execute_reply": "2022-09-10T21:14:08.432838Z"
    },
    "tags": [
     "raises-exception"
    ]
   },
   "outputs": [],
   "source": [
    "#- Plot z_y as a function of z_x\n",
    "plt.scatter(z_x, z_y)"
   ]
  },
  {
   "cell_type": "markdown",
   "id": "2a60b827",
   "metadata": {},
   "source": [
    "Here is a function to calculate the Root Mean Squared Error (RMSE) when using a given\n",
    "slope and intercept to estimate values in `y`, from values in `x`.  You will\n",
    "recognize it from [on regression](https://textbook.nipraxis.org/on_regression).\n",
    "The only variation is that the function takes the square root of the MSE to\n",
    "give the Root MSE (RMSE)."
   ]
  },
  {
   "cell_type": "code",
   "execution_count": 14,
   "id": "9b50a432",
   "metadata": {
    "execution": {
     "iopub.execute_input": "2022-09-10T21:14:08.441483Z",
     "iopub.status.busy": "2022-09-10T21:14:08.439889Z",
     "iopub.status.idle": "2022-09-10T21:14:08.443167Z",
     "shell.execute_reply": "2022-09-10T21:14:08.443837Z"
    }
   },
   "outputs": [],
   "source": [
    "def calc_rmse(x, y, slope, inter):\n",
    "    predicted = inter + slope * x\n",
    "    errors = y - predicted\n",
    "    return np.sqrt(np.mean(errors ** 2))"
   ]
  },
  {
   "cell_type": "markdown",
   "id": "fed98c0b",
   "metadata": {},
   "source": [
    "Calculate the RMSE for `z_x` vs `z_y`, using `r` above as the slope\n",
    "and 0 as the intercept."
   ]
  },
  {
   "cell_type": "code",
   "execution_count": 15,
   "id": "5ef335bf",
   "metadata": {
    "execution": {
     "iopub.execute_input": "2022-09-10T21:14:08.451198Z",
     "iopub.status.busy": "2022-09-10T21:14:08.450179Z",
     "iopub.status.idle": "2022-09-10T21:14:08.454229Z",
     "shell.execute_reply": "2022-09-10T21:14:08.454975Z"
    }
   },
   "outputs": [],
   "source": [
    "r_rmse = calc_rmse(z_x, z_y, r, 0)\n",
    "# Show the result\n",
    "r_rmse"
   ]
  },
  {
   "cell_type": "markdown",
   "id": "433cde95",
   "metadata": {},
   "source": [
    "Here is a selection of slopes and intercepts to try, to predict `z_y` with `z_x`."
   ]
  },
  {
   "cell_type": "code",
   "execution_count": 16,
   "id": "0f0dbdef",
   "metadata": {
    "execution": {
     "iopub.execute_input": "2022-09-10T21:14:08.462013Z",
     "iopub.status.busy": "2022-09-10T21:14:08.461031Z",
     "iopub.status.idle": "2022-09-10T21:14:08.464051Z",
     "shell.execute_reply": "2022-09-10T21:14:08.464700Z"
    }
   },
   "outputs": [],
   "source": [
    "slopes = np.arange(-1, 1, 0.01)\n",
    "intercepts = np.arange(-1, 1, 0.01)\n",
    "n_vals = len(slopes)"
   ]
  },
  {
   "cell_type": "markdown",
   "id": "1b88f7a0",
   "metadata": {},
   "source": [
    "For every slope, intercept pair from `slopes`, `intercepts` above, calculate\n",
    "the RMSE value and store it in the array `rmses`."
   ]
  },
  {
   "cell_type": "code",
   "execution_count": 17,
   "id": "a0bdf689",
   "metadata": {
    "execution": {
     "iopub.execute_input": "2022-09-10T21:14:08.547425Z",
     "iopub.status.busy": "2022-09-10T21:14:08.506137Z",
     "iopub.status.idle": "2022-09-10T21:14:09.512538Z",
     "shell.execute_reply": "2022-09-10T21:14:09.511607Z"
    }
   },
   "outputs": [],
   "source": [
    "rmses = np.zeros((n_vals, n_vals))\n",
    "for i in range(n_vals):  # For each slope value.\n",
    "    slope = slopes[i]\n",
    "    for j in range(n_vals):\n",
    "        intercept = intercepts[j]\n",
    "        rmses[i, j] = calc_rmse(z_x, z_y, slope, intercept)"
   ]
  },
  {
   "cell_type": "code",
   "execution_count": 18,
   "id": "e64cf180",
   "metadata": {
    "execution": {
     "iopub.execute_input": "2022-09-10T21:14:09.518886Z",
     "iopub.status.busy": "2022-09-10T21:14:09.517876Z",
     "iopub.status.idle": "2022-09-10T21:14:09.521259Z",
     "shell.execute_reply": "2022-09-10T21:14:09.522328Z"
    }
   },
   "outputs": [],
   "source": [
    "assert np.all(rmses >= 0)\n",
    "assert np.isclose(\n",
    "    rmses[50, 61],\n",
    "    calc_rmse(z_x, z_y, slopes[50], intercepts[61]))"
   ]
  },
  {
   "cell_type": "markdown",
   "id": "326a6510",
   "metadata": {},
   "source": [
    "Show the `rmses` array as a grayscale image:"
   ]
  },
  {
   "cell_type": "code",
   "execution_count": 19,
   "id": "9774b4d9",
   "metadata": {
    "execution": {
     "iopub.execute_input": "2022-09-10T21:14:09.551464Z",
     "iopub.status.busy": "2022-09-10T21:14:09.550515Z",
     "iopub.status.idle": "2022-09-10T21:14:09.731063Z",
     "shell.execute_reply": "2022-09-10T21:14:09.731748Z"
    }
   },
   "outputs": [],
   "source": [
    "#- Show rmse array as an image\n",
    "plt.imshow(rmses, cmap='gray')"
   ]
  },
  {
   "cell_type": "markdown",
   "id": "bb297cdd",
   "metadata": {},
   "source": [
    "Show that all values in `rmses` are greater than the RMSE you calculated for\n",
    "slope=`r` and intercept of 0."
   ]
  },
  {
   "cell_type": "code",
   "execution_count": 20,
   "id": "e25dcf63",
   "metadata": {
    "execution": {
     "iopub.execute_input": "2022-09-10T21:14:09.738960Z",
     "iopub.status.busy": "2022-09-10T21:14:09.738010Z",
     "iopub.status.idle": "2022-09-10T21:14:09.740818Z",
     "shell.execute_reply": "2022-09-10T21:14:09.741481Z"
    }
   },
   "outputs": [],
   "source": [
    "assert np.min(rmses) >= r_rmse"
   ]
  },
  {
   "cell_type": "markdown",
   "id": "8ae0156e",
   "metadata": {},
   "source": [
    "The fact that this is so suggests that slope=`r` and intercept of 0 are in fact\n",
    "the slope, intercept pair that minimize the RMSE, when predicting `z_y` from\n",
    "`z_x`."
   ]
  },
  {
   "cell_type": "markdown",
   "id": "079ccc4f",
   "metadata": {},
   "source": [
    "## Regression and correlation\n",
    "\n",
    "We have found the best straight line for predicting the psychopathy values as\n",
    "standard scores, from the clammy values as standard scores.  That line has\n",
    "slope `r` and intercept 0.\n",
    "\n",
    "We now want to find the best slope and intercept to predict the original\n",
    "`psychopathy` values from the original `clammy` values.\n",
    "\n",
    "Here are some slopes and intercepts to try for the line predicting\n",
    "`psychopathy` from `clammy`:"
   ]
  },
  {
   "cell_type": "code",
   "execution_count": 21,
   "id": "554bb1ab",
   "metadata": {
    "execution": {
     "iopub.execute_input": "2022-09-10T21:14:09.749102Z",
     "iopub.status.busy": "2022-09-10T21:14:09.747916Z",
     "iopub.status.idle": "2022-09-10T21:14:09.750715Z",
     "shell.execute_reply": "2022-09-10T21:14:09.751382Z"
    }
   },
   "outputs": [],
   "source": [
    "n_slopes = 200\n",
    "orig_slopes = np.linspace(0, 1, n_slopes)\n",
    "n_inters = 300\n",
    "orig_intercepts = np.linspace(5, 15, n_inters) "
   ]
  },
  {
   "cell_type": "markdown",
   "id": "9ce9f492",
   "metadata": {},
   "source": [
    "For every slope, intercept pair from `orig_slopes`, `orig_intercepts` above, calculate\n",
    "the RMSE value and store it in the array `rmses_orig`."
   ]
  },
  {
   "cell_type": "code",
   "execution_count": 22,
   "id": "4571cdf1",
   "metadata": {
    "execution": {
     "iopub.execute_input": "2022-09-10T21:14:09.834907Z",
     "iopub.status.busy": "2022-09-10T21:14:09.792317Z",
     "iopub.status.idle": "2022-09-10T21:14:11.257005Z",
     "shell.execute_reply": "2022-09-10T21:14:11.257873Z"
    }
   },
   "outputs": [],
   "source": [
    "rmses_orig = np.zeros((n_slopes, n_inters))\n",
    "for i in range(n_slopes):  # For each slope value.\n",
    "    slope = orig_slopes[i]\n",
    "    for j in range(n_inters):\n",
    "        intercept = orig_intercepts[j]\n",
    "        rmses_orig[i, j] = calc_rmse(clammy, psychopathy, slope, intercept)"
   ]
  },
  {
   "cell_type": "code",
   "execution_count": 23,
   "id": "f0258a58",
   "metadata": {
    "execution": {
     "iopub.execute_input": "2022-09-10T21:14:11.265351Z",
     "iopub.status.busy": "2022-09-10T21:14:11.263879Z",
     "iopub.status.idle": "2022-09-10T21:14:11.267067Z",
     "shell.execute_reply": "2022-09-10T21:14:11.267714Z"
    }
   },
   "outputs": [],
   "source": [
    "assert np.all(rmses_orig >= 0)\n",
    "assert np.isclose(\n",
    "    rmses_orig[50, 61],\n",
    "    calc_rmse(clammy, psychopathy, orig_slopes[50], orig_intercepts[61]))"
   ]
  },
  {
   "cell_type": "markdown",
   "id": "46737a08",
   "metadata": {},
   "source": [
    "Show the `rmses_orig` array as a grayscale image:"
   ]
  },
  {
   "cell_type": "code",
   "execution_count": 24,
   "id": "327d2c7a",
   "metadata": {
    "execution": {
     "iopub.execute_input": "2022-09-10T21:14:11.294899Z",
     "iopub.status.busy": "2022-09-10T21:14:11.294006Z",
     "iopub.status.idle": "2022-09-10T21:14:11.538178Z",
     "shell.execute_reply": "2022-09-10T21:14:11.538978Z"
    }
   },
   "outputs": [],
   "source": [
    "#- Show rmse array as an image\n",
    "plt.imshow(rmses_orig, cmap='gray')"
   ]
  },
  {
   "cell_type": "markdown",
   "id": "92c07e55",
   "metadata": {},
   "source": [
    "From the [on regression](https://textbook.nipraxis.org/on_regression) page, we can work out the best (least squares, least RMSE) slope from `r`, like this:"
   ]
  },
  {
   "cell_type": "code",
   "execution_count": 25,
   "id": "3d49da81",
   "metadata": {
    "execution": {
     "iopub.execute_input": "2022-09-10T21:14:11.546304Z",
     "iopub.status.busy": "2022-09-10T21:14:11.545275Z",
     "iopub.status.idle": "2022-09-10T21:14:11.549052Z",
     "shell.execute_reply": "2022-09-10T21:14:11.549658Z"
    }
   },
   "outputs": [],
   "source": [
    "best_orig_slope = r * np.std(psychopathy) / np.std(clammy)\n",
    "best_orig_slope"
   ]
  },
  {
   "cell_type": "markdown",
   "id": "ad7021ba",
   "metadata": {},
   "source": [
    "We can reconstruct the best intercept with:"
   ]
  },
  {
   "cell_type": "code",
   "execution_count": 26,
   "id": "80a896d9",
   "metadata": {
    "execution": {
     "iopub.execute_input": "2022-09-10T21:14:11.556453Z",
     "iopub.status.busy": "2022-09-10T21:14:11.555419Z",
     "iopub.status.idle": "2022-09-10T21:14:11.560108Z",
     "shell.execute_reply": "2022-09-10T21:14:11.559411Z"
    }
   },
   "outputs": [],
   "source": [
    "best_orig_inter = np.mean(psychopathy) - best_orig_slope * np.mean(clammy)\n",
    "best_orig_inter"
   ]
  },
  {
   "cell_type": "markdown",
   "id": "5745a218",
   "metadata": {},
   "source": [
    "This is also what we find using the Scipy linear regression function:"
   ]
  },
  {
   "cell_type": "code",
   "execution_count": 27,
   "id": "56e671c2",
   "metadata": {
    "execution": {
     "iopub.execute_input": "2022-09-10T21:14:11.566810Z",
     "iopub.status.busy": "2022-09-10T21:14:11.565473Z",
     "iopub.status.idle": "2022-09-10T21:14:12.661852Z",
     "shell.execute_reply": "2022-09-10T21:14:12.662624Z"
    }
   },
   "outputs": [],
   "source": [
    "import scipy.stats as sps\n",
    "res = sps.linregress(clammy, psychopathy)\n",
    "res"
   ]
  },
  {
   "cell_type": "markdown",
   "id": "48a03d00",
   "metadata": {},
   "source": [
    "Calculate the RMSE value for `clammy`, `psychopathy`, using the best slope and\n",
    "intercept from the calculation above."
   ]
  },
  {
   "cell_type": "code",
   "execution_count": 28,
   "id": "010ba834",
   "metadata": {
    "execution": {
     "iopub.execute_input": "2022-09-10T21:14:12.674855Z",
     "iopub.status.busy": "2022-09-10T21:14:12.670237Z",
     "iopub.status.idle": "2022-09-10T21:14:12.678241Z",
     "shell.execute_reply": "2022-09-10T21:14:12.678922Z"
    }
   },
   "outputs": [],
   "source": [
    "best_rmse = calc_rmse(clammy, psychopathy, best_orig_slope, best_orig_inter)\n",
    "# Show the result\n",
    "best_rmse"
   ]
  },
  {
   "cell_type": "markdown",
   "id": "bee271c2",
   "metadata": {},
   "source": [
    "Show that all values in `rmses_orig` are greater than the RMSE you calculated for\n",
    "slope=`best_slope_orig` and intercept of `best_slope_orig`."
   ]
  },
  {
   "cell_type": "code",
   "execution_count": 29,
   "id": "730cafef",
   "metadata": {
    "execution": {
     "iopub.execute_input": "2022-09-10T21:14:12.686077Z",
     "iopub.status.busy": "2022-09-10T21:14:12.685054Z",
     "iopub.status.idle": "2022-09-10T21:14:12.687676Z",
     "shell.execute_reply": "2022-09-10T21:14:12.688572Z"
    }
   },
   "outputs": [],
   "source": [
    "assert np.min(rmses_orig) >= best_rmse"
   ]
  },
  {
   "cell_type": "markdown",
   "id": "916ea099",
   "metadata": {},
   "source": [
    "This implies that slope, intercept pair we calculated using the `r` value, or\n",
    "with `scipy.stats.linregress`, does give the line minimizing the squared error\n",
    "(and RMSE) when predicting `psychopathy` from `clammy`."
   ]
  }
 ],
 "metadata": {
  "jupytext": {
   "notebook_metadata_filter": "all,-language_info",
   "split_at_heading": true,
   "text_representation": {
    "extension": ".Rmd",
    "format_name": "rmarkdown",
    "format_version": "1.2",
    "jupytext_version": "1.10.3"
   }
  },
  "kernelspec": {
   "display_name": "Python 3",
   "language": "python",
   "name": "python3"
  },
  "language_info": {
   "codemirror_mode": {
    "name": "ipython",
    "version": 3
   },
   "file_extension": ".py",
   "mimetype": "text/x-python",
   "name": "python",
   "nbconvert_exporter": "python",
   "pygments_lexer": "ipython3",
   "version": "3.9.13"
  }
 },
 "nbformat": 4,
 "nbformat_minor": 5
}
