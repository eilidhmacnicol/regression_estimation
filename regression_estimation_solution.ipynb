{
 "cells": [
  {
   "cell_type": "markdown",
   "id": "d3c2456d",
   "metadata": {},
   "source": [
    "# Starting least-squares regression"
   ]
  },
  {
   "cell_type": "markdown",
   "id": "fce2420c",
   "metadata": {},
   "source": [
    "## Introduction and definitions"
   ]
  },
  {
   "cell_type": "code",
   "execution_count": 1,
   "id": "6725ddf5",
   "metadata": {
    "execution": {
     "iopub.execute_input": "2022-09-10T21:05:24.807331Z",
     "iopub.status.busy": "2022-09-10T21:05:24.806328Z",
     "iopub.status.idle": "2022-09-10T21:05:25.528042Z",
     "shell.execute_reply": "2022-09-10T21:05:25.528845Z"
    }
   },
   "outputs": [],
   "source": [
    "#: Import numerical and plotting libraries\n",
    "import numpy as np\n",
    "# Print to four digits of precision\n",
    "np.set_printoptions(precision=4, suppress=True)\n",
    "import numpy.linalg as npl\n",
    "import matplotlib.pyplot as plt"
   ]
  },
  {
   "cell_type": "markdown",
   "id": "a99e4948",
   "metadata": {},
   "source": [
    "This exercise is to practice thinking about how the regression estimation\n",
    "works, and the relationship of correlation and regression.\n",
    "\n",
    "Here are another couple of samples of the “psychopathy” and “clamminess”\n",
    "scores, of the same type that you will see in the [introduction to the general linear\n",
    "model](https://textbook.nipraxis.org/glm_intro.html):"
   ]
  },
  {
   "cell_type": "code",
   "execution_count": 2,
   "id": "d8085272",
   "metadata": {
    "execution": {
     "iopub.execute_input": "2022-09-10T21:05:25.536903Z",
     "iopub.status.busy": "2022-09-10T21:05:25.535904Z",
     "iopub.status.idle": "2022-09-10T21:05:25.538473Z",
     "shell.execute_reply": "2022-09-10T21:05:25.539212Z"
    }
   },
   "outputs": [],
   "source": [
    "#: The data, that we are trying to model.\n",
    "psychopathy = np.array([10.3512,  4.7685,  8.8875, 15.8477,\n",
    "                        7.9221,  5.275 , 16.7839, 11.2392,\n",
    "                        13.2752, 11.0242, 21.9108, 21.0303])"
   ]
  },
  {
   "cell_type": "code",
   "execution_count": 3,
   "id": "bfc089f3",
   "metadata": {
    "execution": {
     "iopub.execute_input": "2022-09-10T21:05:25.545251Z",
     "iopub.status.busy": "2022-09-10T21:05:25.544287Z",
     "iopub.status.idle": "2022-09-10T21:05:25.546821Z",
     "shell.execute_reply": "2022-09-10T21:05:25.547467Z"
    }
   },
   "outputs": [],
   "source": [
    "#: The regressor that we will use to model the data.\n",
    "clammy = np.array([0.0552,  1.8306, -0.3534, -0.7319,\n",
    "                   5.1021,  1.1133,  0.8126,  3.861,\n",
    "                   6.7069,  4.3189,  4.3741,  7.2527])"
   ]
  },
  {
   "cell_type": "code",
   "execution_count": 4,
   "id": "c07f073b",
   "metadata": {
    "execution": {
     "iopub.execute_input": "2022-09-10T21:05:25.553503Z",
     "iopub.status.busy": "2022-09-10T21:05:25.552290Z",
     "iopub.status.idle": "2022-09-10T21:05:25.554915Z",
     "shell.execute_reply": "2022-09-10T21:05:25.555511Z"
    }
   },
   "outputs": [],
   "source": [
    "# Number of values in psychopathy and clammy\n",
    "n = len(psychopathy)"
   ]
  },
  {
   "cell_type": "markdown",
   "id": "cdf40795",
   "metadata": {},
   "source": [
    "## Correlation coefficient and regression\n",
    "\n",
    "As you remember we calculate the correlation by first calculating standard\n",
    "scores (z-scores), then taking the mean of the multiplied standard scores.\n",
    "\n",
    "Make a function to calculate and return the standard scores from an input\n",
    "array."
   ]
  },
  {
   "cell_type": "code",
   "execution_count": 5,
   "id": "3c0862c2",
   "metadata": {
    "execution": {
     "iopub.execute_input": "2022-09-10T21:05:25.562158Z",
     "iopub.status.busy": "2022-09-10T21:05:25.561104Z",
     "iopub.status.idle": "2022-09-10T21:05:25.563693Z",
     "shell.execute_reply": "2022-09-10T21:05:25.564432Z"
    }
   },
   "outputs": [],
   "source": [
    "def standard_scores(v):\n",
    "    \"\"\" Return standard scores from input array `v`\n",
    "\n",
    "    Parameters\n",
    "    ----------\n",
    "    v : array, shape (n,)\n",
    "\n",
    "    Returns\n",
    "    -------\n",
    "    z : array, shape (n,)\n",
    "        Standard scores corresponding to input array `v`.\n",
    "    \"\"\"\n",
    "    return (v - np.mean(v)) / np.std(v)"
   ]
  },
  {
   "cell_type": "code",
   "execution_count": 6,
   "id": "010a2985",
   "metadata": {
    "execution": {
     "iopub.execute_input": "2022-09-10T21:05:25.573745Z",
     "iopub.status.busy": "2022-09-10T21:05:25.572579Z",
     "iopub.status.idle": "2022-09-10T21:05:25.575574Z",
     "shell.execute_reply": "2022-09-10T21:05:25.576223Z"
    }
   },
   "outputs": [],
   "source": [
    "rng = np.random.default_rng()\n",
    "# Make 20 random numbers.\n",
    "my_vector = rng.normal(10, 2, size=20)\n",
    "my_vector_standard = standard_scores(my_vector)\n",
    "# Mean should be very close to 0\n",
    "assert np.isclose(np.mean(my_vector_standard), 0)\n",
    "# Standard deviation should be very close to 1\n",
    "assert np.isclose(np.std(my_vector_standard), 1)\n",
    "assert np.isclose(\n",
    "    my_vector_standard[0],\n",
    "    (my_vector[0] - np.mean(my_vector)) / np.std(my_vector))"
   ]
  },
  {
   "cell_type": "markdown",
   "id": "508dd36d",
   "metadata": {},
   "source": [
    "Make a function that uses your `standard_scores` function to calculate the\n",
    "correlation coefficient between two 1D arrays (vectors):"
   ]
  },
  {
   "cell_type": "code",
   "execution_count": 7,
   "id": "ac578c16",
   "metadata": {
    "execution": {
     "iopub.execute_input": "2022-09-10T21:05:25.582492Z",
     "iopub.status.busy": "2022-09-10T21:05:25.581427Z",
     "iopub.status.idle": "2022-09-10T21:05:25.584230Z",
     "shell.execute_reply": "2022-09-10T21:05:25.584905Z"
    }
   },
   "outputs": [],
   "source": [
    "def corr(x, y):\n",
    "    \"\"\" Pearson correlation coefficient between vectors `x`, `y`.\n",
    "\n",
    "    Parameters\n",
    "    ----------\n",
    "    x : array, shape (n,)\n",
    "    y : array, shape (n,)\n",
    "\n",
    "    Returns\n",
    "    -------\n",
    "    r : float\n",
    "        Pearson product-moment correlation coefficient between `x` and `y`.\n",
    "    \"\"\"\n",
    "    return np.mean(standard_scores(x) * standard_scores(y))"
   ]
  },
  {
   "cell_type": "markdown",
   "id": "e90a75ec",
   "metadata": {},
   "source": [
    "Calculate the correlation coefficient between `clammy` and `psychopathy`."
   ]
  },
  {
   "cell_type": "code",
   "execution_count": 8,
   "id": "dbe7f583",
   "metadata": {
    "execution": {
     "iopub.execute_input": "2022-09-10T21:05:25.595198Z",
     "iopub.status.busy": "2022-09-10T21:05:25.593883Z",
     "iopub.status.idle": "2022-09-10T21:05:25.600539Z",
     "shell.execute_reply": "2022-09-10T21:05:25.601527Z"
    }
   },
   "outputs": [],
   "source": [
    "r = corr(clammy, psychopathy)\n",
    "# Show the result\n",
    "r"
   ]
  },
  {
   "cell_type": "code",
   "execution_count": 9,
   "id": "4293d9f3",
   "metadata": {
    "execution": {
     "iopub.execute_input": "2022-09-10T21:05:25.609104Z",
     "iopub.status.busy": "2022-09-10T21:05:25.608204Z",
     "iopub.status.idle": "2022-09-10T21:05:25.611111Z",
     "shell.execute_reply": "2022-09-10T21:05:25.611995Z"
    }
   },
   "outputs": [],
   "source": [
    "assert -1 <= r <= 1\n",
    "assert np.isclose(r, np.corrcoef(clammy, psychopathy)[0, 1])"
   ]
  },
  {
   "cell_type": "markdown",
   "id": "57e7a631",
   "metadata": {},
   "source": [
    "Make a standard scored version of `clammy`.  Call it `z_x`.\n",
    "\n",
    "Make a standard scored version of `psychopathy`.  Call it `z_y`."
   ]
  },
  {
   "cell_type": "code",
   "execution_count": 10,
   "id": "3c4f6de3",
   "metadata": {
    "execution": {
     "iopub.execute_input": "2022-09-10T21:05:25.620372Z",
     "iopub.status.busy": "2022-09-10T21:05:25.618160Z",
     "iopub.status.idle": "2022-09-10T21:05:25.622665Z",
     "shell.execute_reply": "2022-09-10T21:05:25.623620Z"
    }
   },
   "outputs": [],
   "source": [
    "z_x = standard_scores(clammy)\n",
    "z_y = standard_scores(psychopathy)"
   ]
  },
  {
   "cell_type": "code",
   "execution_count": 11,
   "id": "7e096a13",
   "metadata": {
    "execution": {
     "iopub.execute_input": "2022-09-10T21:05:25.635482Z",
     "iopub.status.busy": "2022-09-10T21:05:25.633364Z",
     "iopub.status.idle": "2022-09-10T21:05:25.638146Z",
     "shell.execute_reply": "2022-09-10T21:05:25.639117Z"
    }
   },
   "outputs": [],
   "source": [
    "assert np.isclose(z_x[0], (clammy[0] - np.mean(clammy)) / np.std(clammy))\n",
    "assert np.isclose(z_y[0], (psychopathy[0] - np.mean(psychopathy)) /\n",
    "    np.std(psychopathy))\n",
    "for vec in z_x, z_y:\n",
    "    assert np.isclose(np.mean(vec), 0)\n",
    "    assert np.isclose(np.std(vec), 1)"
   ]
  },
  {
   "cell_type": "markdown",
   "id": "16360982",
   "metadata": {},
   "source": [
    "Do a scatterplot with `z_x` on the x-axis and `z_y` on the y-axis:"
   ]
  },
  {
   "cell_type": "code",
   "execution_count": 12,
   "id": "84e433a2",
   "metadata": {
    "execution": {
     "iopub.execute_input": "2022-09-10T21:05:25.681565Z",
     "iopub.status.busy": "2022-09-10T21:05:25.680451Z",
     "iopub.status.idle": "2022-09-10T21:05:25.888399Z",
     "shell.execute_reply": "2022-09-10T21:05:25.889078Z"
    },
    "tags": [
     "raises-exception"
    ]
   },
   "outputs": [],
   "source": [
    "#- Plot z_y as a function of z_x\n",
    "plt.scatter(z_x, z_y)"
   ]
  },
  {
   "cell_type": "markdown",
   "id": "66678d09",
   "metadata": {},
   "source": [
    "Here is a function to calculate the Root Mean Squared Error (RMSE) when using a given\n",
    "slope and intercept to estimate values in `y`, from values in `x`.  You will\n",
    "recognize it from [on regression](https://textbook.nipraxis.org/on_regression).\n",
    "The only variation is that the function takes the square root of the MSE to\n",
    "give the Root MSE (RMSE)."
   ]
  },
  {
   "cell_type": "code",
   "execution_count": 13,
   "id": "8590d9d4",
   "metadata": {
    "execution": {
     "iopub.execute_input": "2022-09-10T21:05:25.895911Z",
     "iopub.status.busy": "2022-09-10T21:05:25.894770Z",
     "iopub.status.idle": "2022-09-10T21:05:25.897720Z",
     "shell.execute_reply": "2022-09-10T21:05:25.898463Z"
    }
   },
   "outputs": [],
   "source": [
    "def calc_rmse(x, y, slope, inter):\n",
    "    predicted = inter + slope * x\n",
    "    errors = y - predicted\n",
    "    return np.sqrt(np.mean(errors ** 2))"
   ]
  },
  {
   "cell_type": "markdown",
   "id": "27a5f099",
   "metadata": {},
   "source": [
    "Calculate the RMSE for `z_x` vs `z_y`, using `r` above as the slope\n",
    "and 0 as the intercept."
   ]
  },
  {
   "cell_type": "code",
   "execution_count": 14,
   "id": "baee9f13",
   "metadata": {
    "execution": {
     "iopub.execute_input": "2022-09-10T21:05:25.906141Z",
     "iopub.status.busy": "2022-09-10T21:05:25.905235Z",
     "iopub.status.idle": "2022-09-10T21:05:25.910104Z",
     "shell.execute_reply": "2022-09-10T21:05:25.909374Z"
    }
   },
   "outputs": [],
   "source": [
    "r_rmse = calc_rmse(z_x, z_y, r, 0)\n",
    "# Show the result\n",
    "r_rmse"
   ]
  },
  {
   "cell_type": "markdown",
   "id": "65d5aab0",
   "metadata": {},
   "source": [
    "Here is a selection of slopes and intercepts to try, to predict `z_y` with `z_x`."
   ]
  },
  {
   "cell_type": "code",
   "execution_count": 15,
   "id": "f6bc0569",
   "metadata": {
    "execution": {
     "iopub.execute_input": "2022-09-10T21:05:25.917186Z",
     "iopub.status.busy": "2022-09-10T21:05:25.915798Z",
     "iopub.status.idle": "2022-09-10T21:05:25.918756Z",
     "shell.execute_reply": "2022-09-10T21:05:25.920002Z"
    }
   },
   "outputs": [],
   "source": [
    "slopes = np.arange(-1, 1, 0.01)\n",
    "intercepts = np.arange(-1, 1, 0.01)\n",
    "n_vals = len(slopes)"
   ]
  },
  {
   "cell_type": "markdown",
   "id": "44941d85",
   "metadata": {},
   "source": [
    "For every slope, intercept pair from `slopes`, `intercepts` above, calculate\n",
    "the RMSE value and store it in the array `rmses`."
   ]
  },
  {
   "cell_type": "code",
   "execution_count": 16,
   "id": "2c33700d",
   "metadata": {
    "execution": {
     "iopub.execute_input": "2022-09-10T21:05:26.007879Z",
     "iopub.status.busy": "2022-09-10T21:05:25.967004Z",
     "iopub.status.idle": "2022-09-10T21:05:26.977127Z",
     "shell.execute_reply": "2022-09-10T21:05:26.977913Z"
    }
   },
   "outputs": [],
   "source": [
    "rmses = np.zeros((n_vals, n_vals))\n",
    "for i in range(n_vals):  # For each slope value.\n",
    "    slope = slopes[i]\n",
    "    for j in range(n_vals):\n",
    "        intercept = intercepts[j]\n",
    "        rmses[i, j] = calc_rmse(z_x, z_y, slope, intercept)"
   ]
  },
  {
   "cell_type": "code",
   "execution_count": 17,
   "id": "7c5c1e54",
   "metadata": {
    "execution": {
     "iopub.execute_input": "2022-09-10T21:05:26.985479Z",
     "iopub.status.busy": "2022-09-10T21:05:26.984120Z",
     "iopub.status.idle": "2022-09-10T21:05:26.988541Z",
     "shell.execute_reply": "2022-09-10T21:05:26.987818Z"
    }
   },
   "outputs": [],
   "source": [
    "assert np.all(rmses >= 0)\n",
    "assert np.isclose(\n",
    "    rmses[50, 61],\n",
    "    calc_rmse(z_x, z_y, slopes[50], intercepts[61]))"
   ]
  },
  {
   "cell_type": "markdown",
   "id": "370335af",
   "metadata": {},
   "source": [
    "Show the `rmses` array as a grayscale image:"
   ]
  },
  {
   "cell_type": "code",
   "execution_count": 18,
   "id": "c2179c1b",
   "metadata": {
    "execution": {
     "iopub.execute_input": "2022-09-10T21:05:27.021753Z",
     "iopub.status.busy": "2022-09-10T21:05:27.020014Z",
     "iopub.status.idle": "2022-09-10T21:05:27.198244Z",
     "shell.execute_reply": "2022-09-10T21:05:27.199150Z"
    }
   },
   "outputs": [],
   "source": [
    "#- Show rmse array as an image\n",
    "plt.imshow(rmses, cmap='gray')"
   ]
  },
  {
   "cell_type": "markdown",
   "id": "29495912",
   "metadata": {},
   "source": [
    "Show that all values in `rmses` are greater than the RMSE you calculated for\n",
    "slope=`r` and intercept of 0."
   ]
  },
  {
   "cell_type": "code",
   "execution_count": 19,
   "id": "eea1650c",
   "metadata": {
    "execution": {
     "iopub.execute_input": "2022-09-10T21:05:27.205526Z",
     "iopub.status.busy": "2022-09-10T21:05:27.204556Z",
     "iopub.status.idle": "2022-09-10T21:05:27.207522Z",
     "shell.execute_reply": "2022-09-10T21:05:27.208237Z"
    }
   },
   "outputs": [],
   "source": [
    "assert np.min(rmses) >= r_rmse"
   ]
  },
  {
   "cell_type": "markdown",
   "id": "6b19cafa",
   "metadata": {},
   "source": [
    "The fact that this is so suggests that slope=`r` and intercept of 0 are in fact\n",
    "the slope, intercept pair that minimize the RMSE, when predicting `z_y` from\n",
    "`z_x`."
   ]
  },
  {
   "cell_type": "markdown",
   "id": "7d00ba52",
   "metadata": {},
   "source": [
    "## Regression\n",
    "\n",
    "We have found the best straight line for predicting the psychopathy values as\n",
    "standard scores, from the clammy values as standard scores.  That line has\n",
    "slope `r` and intercept 0.\n",
    "\n",
    "We now want to find the best slope and intercept to predict the original\n",
    "`psychopathy` values from the original `clammy` values.\n",
    "\n",
    "Do a scatterplot with `clammy` on the x-axis and `psychopathy` on the y-axis."
   ]
  },
  {
   "cell_type": "code",
   "execution_count": 20,
   "id": "c8b1fc83",
   "metadata": {
    "execution": {
     "iopub.execute_input": "2022-09-10T21:05:27.240927Z",
     "iopub.status.busy": "2022-09-10T21:05:27.239956Z",
     "iopub.status.idle": "2022-09-10T21:05:27.414476Z",
     "shell.execute_reply": "2022-09-10T21:05:27.415217Z"
    },
    "tags": [
     "raises-exception"
    ]
   },
   "outputs": [],
   "source": [
    "#- Plot psychopathy as a function of clammy\n",
    "plt.scatter(clammy, psychopathy)"
   ]
  },
  {
   "cell_type": "markdown",
   "id": "ae5e1e92",
   "metadata": {},
   "source": [
    "Here are some slopes and intercepts to try for the line predicting `psychopathy` from `clammy`:"
   ]
  },
  {
   "cell_type": "code",
   "execution_count": 21,
   "id": "33f9edc2",
   "metadata": {
    "execution": {
     "iopub.execute_input": "2022-09-10T21:05:27.422179Z",
     "iopub.status.busy": "2022-09-10T21:05:27.421117Z",
     "iopub.status.idle": "2022-09-10T21:05:27.424416Z",
     "shell.execute_reply": "2022-09-10T21:05:27.425343Z"
    }
   },
   "outputs": [],
   "source": [
    "n_slopes = 200\n",
    "orig_slopes = np.linspace(0, 1, n_slopes)\n",
    "n_inters = 300\n",
    "orig_intercepts = np.linspace(5, 15, n_inters) "
   ]
  },
  {
   "cell_type": "markdown",
   "id": "3ca2cba3",
   "metadata": {},
   "source": [
    "For every slope, intercept pair from `orig_slopes`, `orig_intercepts` above, calculate\n",
    "the RMSE value and store it in the array `rmses_orig`."
   ]
  },
  {
   "cell_type": "code",
   "execution_count": 22,
   "id": "cf3f52dd",
   "metadata": {
    "execution": {
     "iopub.execute_input": "2022-09-10T21:05:27.507517Z",
     "iopub.status.busy": "2022-09-10T21:05:27.465301Z",
     "iopub.status.idle": "2022-09-10T21:05:29.036513Z",
     "shell.execute_reply": "2022-09-10T21:05:29.037250Z"
    }
   },
   "outputs": [],
   "source": [
    "rmses_orig = np.zeros((n_slopes, n_inters))\n",
    "for i in range(n_slopes):  # For each slope value.\n",
    "    slope = orig_slopes[i]\n",
    "    for j in range(n_inters):\n",
    "        intercept = orig_intercepts[j]\n",
    "        rmses_orig[i, j] = calc_rmse(clammy, psychopathy, slope, intercept)"
   ]
  },
  {
   "cell_type": "code",
   "execution_count": 23,
   "id": "91e1c011",
   "metadata": {
    "execution": {
     "iopub.execute_input": "2022-09-10T21:05:29.045884Z",
     "iopub.status.busy": "2022-09-10T21:05:29.043737Z",
     "iopub.status.idle": "2022-09-10T21:05:29.047451Z",
     "shell.execute_reply": "2022-09-10T21:05:29.048100Z"
    }
   },
   "outputs": [],
   "source": [
    "assert np.all(rmses_orig >= 0)\n",
    "assert np.isclose(\n",
    "    rmses_orig[50, 61],\n",
    "    calc_rmse(clammy, psychopathy, orig_slopes[50], orig_intercepts[61]))"
   ]
  },
  {
   "cell_type": "markdown",
   "id": "09d741d5",
   "metadata": {},
   "source": [
    "Show the `rmses_orig` array as a grayscale image:"
   ]
  },
  {
   "cell_type": "code",
   "execution_count": 24,
   "id": "83588a93",
   "metadata": {
    "execution": {
     "iopub.execute_input": "2022-09-10T21:05:29.078938Z",
     "iopub.status.busy": "2022-09-10T21:05:29.077447Z",
     "iopub.status.idle": "2022-09-10T21:05:29.294112Z",
     "shell.execute_reply": "2022-09-10T21:05:29.295261Z"
    }
   },
   "outputs": [],
   "source": [
    "#- Show rmse array as an image\n",
    "plt.imshow(rmses_orig, cmap='gray')"
   ]
  },
  {
   "cell_type": "markdown",
   "id": "88833385",
   "metadata": {},
   "source": [
    "From the [on regression](https://textbook.nipraxis.org/on_regression) page, we can work out the best (least squares, least RMSE) slope from `r`, like this:"
   ]
  },
  {
   "cell_type": "code",
   "execution_count": 25,
   "id": "bba773fc",
   "metadata": {
    "execution": {
     "iopub.execute_input": "2022-09-10T21:05:29.303162Z",
     "iopub.status.busy": "2022-09-10T21:05:29.302109Z",
     "iopub.status.idle": "2022-09-10T21:05:29.306548Z",
     "shell.execute_reply": "2022-09-10T21:05:29.307350Z"
    }
   },
   "outputs": [],
   "source": [
    "best_orig_slope = r * np.std(psychopathy) / np.std(clammy)\n",
    "best_orig_slope"
   ]
  },
  {
   "cell_type": "markdown",
   "id": "9e406173",
   "metadata": {},
   "source": [
    "We can reconstruct the best intercept with:"
   ]
  },
  {
   "cell_type": "code",
   "execution_count": 26,
   "id": "24f1479a",
   "metadata": {
    "execution": {
     "iopub.execute_input": "2022-09-10T21:05:29.315329Z",
     "iopub.status.busy": "2022-09-10T21:05:29.314123Z",
     "iopub.status.idle": "2022-09-10T21:05:29.318934Z",
     "shell.execute_reply": "2022-09-10T21:05:29.318233Z"
    }
   },
   "outputs": [],
   "source": [
    "best_orig_inter = np.mean(psychopathy) - best_orig_slope * np.mean(clammy)\n",
    "best_orig_inter"
   ]
  },
  {
   "cell_type": "markdown",
   "id": "83cce2c2",
   "metadata": {},
   "source": [
    "This is also what we find using the Scipy linear regression function:"
   ]
  },
  {
   "cell_type": "code",
   "execution_count": 27,
   "id": "f48e70ea",
   "metadata": {
    "execution": {
     "iopub.execute_input": "2022-09-10T21:05:29.324852Z",
     "iopub.status.busy": "2022-09-10T21:05:29.323963Z",
     "iopub.status.idle": "2022-09-10T21:05:30.442317Z",
     "shell.execute_reply": "2022-09-10T21:05:30.442978Z"
    }
   },
   "outputs": [],
   "source": [
    "import scipy.stats as sps\n",
    "res = sps.linregress(clammy, psychopathy)\n",
    "res"
   ]
  },
  {
   "cell_type": "markdown",
   "id": "01364805",
   "metadata": {},
   "source": [
    "Calculate the RMSE value for `clammy`, `psychopathy`, using the best slope and\n",
    "intercept from the calculation above."
   ]
  },
  {
   "cell_type": "code",
   "execution_count": 28,
   "id": "23b18963",
   "metadata": {
    "execution": {
     "iopub.execute_input": "2022-09-10T21:05:30.451128Z",
     "iopub.status.busy": "2022-09-10T21:05:30.450043Z",
     "iopub.status.idle": "2022-09-10T21:05:30.454642Z",
     "shell.execute_reply": "2022-09-10T21:05:30.453749Z"
    }
   },
   "outputs": [],
   "source": [
    "best_rmse = calc_rmse(clammy, psychopathy, best_orig_slope, best_orig_inter)\n",
    "# Show the result\n",
    "best_rmse"
   ]
  },
  {
   "cell_type": "markdown",
   "id": "b96125b9",
   "metadata": {},
   "source": [
    "Show that all values in `rmses_orig` are greater than the RMSE you calculated for\n",
    "slope=`best_slope_orig` and intercept of `best_slope_orig`."
   ]
  },
  {
   "cell_type": "code",
   "execution_count": 29,
   "id": "a44b4d1f",
   "metadata": {
    "execution": {
     "iopub.execute_input": "2022-09-10T21:05:30.460478Z",
     "iopub.status.busy": "2022-09-10T21:05:30.459579Z",
     "iopub.status.idle": "2022-09-10T21:05:30.462434Z",
     "shell.execute_reply": "2022-09-10T21:05:30.463188Z"
    }
   },
   "outputs": [],
   "source": [
    "assert np.min(rmses_orig) >= best_rmse"
   ]
  },
  {
   "cell_type": "markdown",
   "id": "d29d97f1",
   "metadata": {},
   "source": [
    "This implies that slope, intercept pair we calculated using the `r` value, or\n",
    "with `scipy.stats.linregress`, does give the line minimizing the squared error\n",
    "(and RMSE) when predicting `psychopathy` from `clammy`."
   ]
  }
 ],
 "metadata": {
  "jupytext": {
   "notebook_metadata_filter": "all,-language_info",
   "split_at_heading": true,
   "text_representation": {
    "extension": ".Rmd",
    "format_name": "rmarkdown",
    "format_version": "1.2",
    "jupytext_version": "1.10.3"
   }
  },
  "kernelspec": {
   "display_name": "Python 3",
   "language": "python",
   "name": "python3"
  },
  "language_info": {
   "codemirror_mode": {
    "name": "ipython",
    "version": 3
   },
   "file_extension": ".py",
   "mimetype": "text/x-python",
   "name": "python",
   "nbconvert_exporter": "python",
   "pygments_lexer": "ipython3",
   "version": "3.9.13"
  }
 },
 "nbformat": 4,
 "nbformat_minor": 5
}
